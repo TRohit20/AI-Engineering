{
 "cells": [
  {
   "cell_type": "code",
   "execution_count": null,
   "metadata": {},
   "outputs": [],
   "source": [
    "# Kokoru is an OpenSource Text-to-Speech SOTA model trained using <100 hours of audio. \n",
    "# The model is only 385 MB which makes it very light and easy to run even on a CPU\n",
    "# You can further fine-tune the model!"
   ]
  },
  {
   "cell_type": "code",
   "execution_count": null,
   "metadata": {},
   "outputs": [],
   "source": [
    "# Install dependencies \n",
    "!git lfs install\n",
    "!git clone https://huggingface.co/hexgrad/Kokoro-82M\n",
    "%cd Kokoro-82M\n",
    "!apt-get -qq -y install espeak-ng > /dev/null 2>&1\n",
    "!pip install -q phonemizer torch transformers scipy munch"
   ]
  },
  {
   "cell_type": "code",
   "execution_count": null,
   "metadata": {},
   "outputs": [],
   "source": [
    "# Build the model and load the default voicepack\n",
    "from models import build_model\n",
    "import torch"
   ]
  },
  {
   "cell_type": "code",
   "execution_count": null,
   "metadata": {},
   "outputs": [],
   "source": [
    "device = 'cuda' if torch.cuda.is_available() else 'cpu'"
   ]
  },
  {
   "cell_type": "code",
   "execution_count": null,
   "metadata": {},
   "outputs": [],
   "source": [
    "MODEL = build_model('kokoro-v0_19.pth', device)"
   ]
  },
  {
   "cell_type": "code",
   "execution_count": null,
   "metadata": {},
   "outputs": [],
   "source": [
    "VOICE_NAME = [\n",
    "    'af', # Default voice is a 50-50 mix of Bella & Sarah\n",
    "    'af_bella', 'af_sarah', 'am_adam', 'am_michael',\n",
    "    'bf_emma', 'bf_isabella', 'bm_george', 'bm_lewis',\n",
    "    'af_nicole', 'af_sky',\n",
    "][0]\n",
    "VOICEPACK = torch.load(f'voices/{VOICE_NAME}.pt', weights_only=True).to(device)\n",
    "print(f'Loaded voice: {VOICE_NAME}')"
   ]
  },
  {
   "cell_type": "code",
   "execution_count": null,
   "metadata": {},
   "outputs": [],
   "source": [
    "# Call generate, which returns 24khz audio and the phonemes used\n",
    "from kokoro import generate\n",
    "text = \"This is test to experiment the new Kokoru's text2speech model to see how good it is and if it can be used for Customer Support agents.\"\n",
    "audio, out_ps = generate(MODEL, text, VOICEPACK, lang=VOICE_NAME[0])\n",
    "# Language is determined by the first letter of the VOICE_NAME:\n",
    "# 🇺🇸 'a' => American English => en-us\n",
    "# 🇬🇧 'b' => British English => en-gb"
   ]
  },
  {
   "cell_type": "code",
   "execution_count": null,
   "metadata": {},
   "outputs": [],
   "source": [
    "# Display the 24khz audio and print the output phonemes\n",
    "from IPython.display import display, Audio\n",
    "display(Audio(data=audio, rate=24000, autoplay=True))\n",
    "print(out_ps)"
   ]
  }
 ],
 "metadata": {
  "language_info": {
   "name": "python"
  }
 },
 "nbformat": 4,
 "nbformat_minor": 2
}
